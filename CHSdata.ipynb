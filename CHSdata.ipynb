{
 "cells": [
  {
   "cell_type": "code",
   "execution_count": 1,
   "id": "4830d7bf-cc8b-44b0-b802-e39bc8291604",
   "metadata": {
    "tags": []
   },
   "outputs": [],
   "source": [
    "ACTCHS_PATH = 'id_act_chs.json'\n",
    "id_action_path ='id_action.json'\n",
    "import json"
   ]
  },
  {
   "cell_type": "code",
   "execution_count": 3,
   "id": "d693cd72-6856-4f8f-9d3e-0e42385b8ed6",
   "metadata": {
    "tags": []
   },
   "outputs": [],
   "source": [
    "with open(ACTCHS_PATH,'r',encoding= 'UTF-8') as CHS:\n",
    "    chs = json.load(CHS)\n",
    "with open(id_action_path) as IDA:\n",
    "    ida = json.load(IDA)"
   ]
  },
  {
   "cell_type": "code",
   "execution_count": 4,
   "id": "b2524932-7385-4954-a9d2-cf2d634fade3",
   "metadata": {
    "tags": []
   },
   "outputs": [],
   "source": [
    "achs = {}\n",
    "for i in chs:\n",
    "    achs[ida[i]] = chs[i]\n",
    "with open('action_chs.json','w',encoding= 'UTF-8') as ACHS:\n",
    "    json.dump(achs,ACHS)"
   ]
  },
  {
   "cell_type": "code",
   "execution_count": null,
   "id": "69063a90-47b7-42e3-aac3-449523756385",
   "metadata": {},
   "outputs": [],
   "source": []
  }
 ],
 "metadata": {
  "kernelspec": {
   "display_name": "Python 3 (ipykernel)",
   "language": "python",
   "name": "python3"
  },
  "language_info": {
   "codemirror_mode": {
    "name": "ipython",
    "version": 3
   },
   "file_extension": ".py",
   "mimetype": "text/x-python",
   "name": "python",
   "nbconvert_exporter": "python",
   "pygments_lexer": "ipython3",
   "version": "3.8.8"
  }
 },
 "nbformat": 4,
 "nbformat_minor": 5
}
