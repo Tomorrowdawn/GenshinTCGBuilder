{
 "cells": [
  {
   "cell_type": "code",
   "execution_count": 1,
   "id": "dc9cdee7-0a2c-4f1f-9009-f6ecc852c904",
   "metadata": {
    "tags": []
   },
   "outputs": [],
   "source": [
    "from utils import *\n",
    "\n",
    "def pre_scan(dataset_path, decks_save_path):\n",
    "    res = []\n",
    "    dataset = get_png_paths(dataset_path)\n",
    "    for data in dataset:\n",
    "        res.append(scan(data))\n",
    "    with open(decks_save_path,'w') as dp:\n",
    "        json.dump(res,dp)\n",
    "    return res\n",
    "\n",
    "class Controller:\n",
    "    def __init__(self, data_root, scanned_file, decks_path, dataset_path):\n",
    "        \"\"\"\n",
    "        \n",
    "        data_root: directory of all data. Other file paths are all base on data_root\n",
    "        \n",
    "        \"\"\"\n",
    "        self.root = data_root\n",
    "        self.scanned_path = os.path.join(data_root, scanned_file)\n",
    "        self.decks = os.path.join(data_root, decks_path)\n",
    "        self.dataset_path = dataset_path\n",
    "    def freeze(self):\n",
    "        \"\"\"将dataset全部计入scanned.\n",
    "        \n",
    "        外部调用:一般用于第一次初始化dataset\n",
    "        该方法会在update的最后被调用, 以更新控制文件\n",
    "        \"\"\"\n",
    "        dataset = get_png_paths(self.dataset_path)\n",
    "        with open(self.scanned_path,'w', encoding='UTF-8') as sp:\n",
    "            json.dump(dataset,sp)\n",
    "    def update(self):\n",
    "        with open(self.scanned_path, 'r', encoding= 'UTF-8') as sp:\n",
    "            scanned = set(json.load(sp))\n",
    "        dataset = set(get_png_paths(self.dataset_path))\n",
    "        unscanned = list(dataset - (dataset & scanned))\n",
    "        with open(self.decks, 'r', encoding= 'UTF-8') as dec:\n",
    "            decks = json.load(dec)\n",
    "        for us in unscanned:\n",
    "            decks.append(scan(us))\n",
    "        with open(self.decks, 'w', encoding= 'UTF-8') as dec:\n",
    "            json.dump(decks, dec)\n",
    "        self.freeze()\n",
    "    def readall(self):\n",
    "        dataset = get_png_paths(self.dataset_path)\n",
    "        res = []\n",
    "        for data in dataset:\n",
    "            res.append(scan(data))\n",
    "        with open(self.decks,'w') as dp:\n",
    "            json.dump(res,dp)\n",
    "        return res"
   ]
  },
  {
   "cell_type": "code",
   "execution_count": 2,
   "id": "522dd43a-a9de-4780-86ea-d1776b57f08b",
   "metadata": {
    "tags": []
   },
   "outputs": [],
   "source": [
    "data_root = utils_path\n",
    "dataset_path = os.path.join(data_root,'scanner','python','datasets')\n",
    "data_root = os.path.join(data_root,'data')\n",
    "C = Controller(data_root,'scanned.json','deck_scan.json',dataset_path)"
   ]
  },
  {
   "cell_type": "code",
   "execution_count": 3,
   "id": "8d324ca1-bb2f-4859-a98c-07bb12c19b28",
   "metadata": {
    "tags": []
   },
   "outputs": [],
   "source": [
    "C.update()"
   ]
  },
  {
   "cell_type": "code",
   "execution_count": null,
   "id": "31fbe285-fab6-4f06-96ec-394f814d1ca5",
   "metadata": {},
   "outputs": [],
   "source": []
  }
 ],
 "metadata": {
  "kernelspec": {
   "display_name": "Python 3 (ipykernel)",
   "language": "python",
   "name": "python3"
  },
  "language_info": {
   "codemirror_mode": {
    "name": "ipython",
    "version": 3
   },
   "file_extension": ".py",
   "mimetype": "text/x-python",
   "name": "python",
   "nbconvert_exporter": "python",
   "pygments_lexer": "ipython3",
   "version": "3.8.8"
  }
 },
 "nbformat": 4,
 "nbformat_minor": 5
}
