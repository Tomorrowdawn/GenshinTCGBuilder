{
 "cells": [
  {
   "cell_type": "code",
   "execution_count": 16,
   "id": "5b8f3b4b-1584-4693-befb-7f749db33bd4",
   "metadata": {
    "tags": []
   },
   "outputs": [],
   "source": [
    "import json\n",
    "import geatpy as ea\n",
    "from utils import get_png_paths, scan,char_id_mapping, action_id_mapping"
   ]
  },
  {
   "cell_type": "code",
   "execution_count": 17,
   "id": "84af3bb8-407d-4fa9-a600-c7fd87e334f3",
   "metadata": {
    "tags": []
   },
   "outputs": [],
   "source": [
    "import numpy as np\n",
    "import geatpy as ea\n",
    "import time\n",
    "import random\n",
    "\n",
    "def split_vars(Vars):\n",
    "    base = np.zeros_like(Vars)\n",
    "    bias = np.zeros_like(Vars)\n",
    "    ones = (Vars==1)\n",
    "    base[ones] = 1\n",
    "    twos = (Vars == 2)\n",
    "    bias[twos] = 1\n",
    "    return base, bias\n",
    "class CardMatchPop(ea.Population):\n",
    "    def set_cards(self, cards):\n",
    "        #print(\"我服辣\")\n",
    "        self.cards = cards\n",
    "    def set_field(self, lbs,ubs,types):\n",
    "        self.Field = np.vstack((np.array(lbs),np.array(ubs),np.array(types)))\n",
    "    def initChrom(self, NIND):\n",
    "        #print(\"妈妈生的\")\n",
    "        if NIND is not None:\n",
    "            self.sizes = NIND  # 重新设置种群规模\n",
    "        if self.cards is None:\n",
    "            raise ValueError(\"cards not initialized\")\n",
    "        var_nums = self.Field.shape[1]\n",
    "        res = []\n",
    "        now = time.time()\n",
    "        for i in range(self.sizes):\n",
    "            twos = random.randint(0, self.cards//2 - 1)\n",
    "            t = [2]*twos + [1]*(self.cards-twos) + [0]*(var_nums - self.cards)\n",
    "            np.random.shuffle(t)\n",
    "            res.append(t)\n",
    "        print(\"init pop cost {}s\".format(time.time()-now),flush= True)\n",
    "        self.Chrom = np.array(res)\n",
    "        self.Lind = self.Chrom.shape[1]  # 计算染色体的长度\n",
    "        self.ObjV = None\n",
    "        self.FitnV = None\n",
    "        self.CV = None\n",
    "        \n",
    "def BestChars(CharComfort:np.ndarray, selected_char, eles = None):\n",
    "    \"\"\"给定一个角色的id,返回他的最佳队友\n",
    "    eles[char_id] = ele_type\n",
    "    \"\"\"\n",
    "    charnum = CharComfort.shape[0]\n",
    "    best_pair = (0,0)\n",
    "    best_scores = float('-inf')\n",
    "    \n",
    "    for j in range(charnum):\n",
    "        if j == selected_char:\n",
    "            continue\n",
    "        for k in range(charnum):\n",
    "            if k == j or k == selected_char:\n",
    "                continue\n",
    "            if eles != None:\n",
    "                if eles[selected_char] == eles[j] == eles[k]:\n",
    "                    continue\n",
    "            scores = CharComfort[selected_char,j] + CharComfort[j,k] + CharComfort[selected_char,k]\n",
    "            if scores > best_scores:\n",
    "                best_pair = (j ,k)\n",
    "                best_scores = scores\n",
    "    return best_pair\n",
    "def MatchCardGA(comfort,selected_chars, c2a , \n",
    "                card_num = 30, ban_list = [],\n",
    "                try_algo = 3, repeat_bonus = 5, char_bonus = 0.1,\n",
    "                NIND = 500, ITERS = 300):\n",
    "    \"\"\"\n",
    "    ban_list: 不准使用的卡的id\n",
    "    \"\"\"\n",
    "    alpha = repeat_bonus\n",
    "    cards = card_num\n",
    "    sigma = 0.82\n",
    "    N = comfort.shape[0]\n",
    "    beta = N/len(selected_chars)*(1+char_bonus)\n",
    "    portion = 0.05\n",
    "    weight = np.zeros(N)\n",
    "    for char_idx in selected_chars:\n",
    "        weight += c2a[char_idx, :].flatten()\n",
    "    @ea.Problem.single\n",
    "    def evalVars(Vars):\n",
    "        f = np.dot(np.dot(Vars,comfort), Vars) + beta*np.dot(weight,Vars)\n",
    "        #base,bias = split_vars(Vars)\n",
    "        #f = np.dot(np.dot(base, comfort), base)+  \\\n",
    "        #np.dot(np.dot(bias, comfort), bias) + np.dot(weight, Vars)\n",
    "        #f = np.dot(np.dot(base, comfort), base)+  \\\n",
    "        #0.99*np.dot(np.dot(bias, comfort), base)+0.9*np.dot(np.dot(base,comfort), bias)\\\n",
    "        #+ 0.8*np.dot(np.dot(bias,comfort), bias)\\\n",
    "        #+ beta*np.dot(weight, Vars)\n",
    "        CV = np.array([np.abs(np.sum(Vars) - cards)])\n",
    "        return f, CV\n",
    "    lbs = [0]*N\n",
    "    ubs = [2]*N\n",
    "    for i in ban_list:\n",
    "        ubs[i] = 0\n",
    "    prob = ea.Problem(\n",
    "        name = \"Card Matching\",\n",
    "        M = 1,\n",
    "        maxormins = [-1],\n",
    "        Dim = comfort.shape[0],\n",
    "        varTypes=[1]*comfort.shape[0],\n",
    "        lb = lbs,\n",
    "        ub = ubs,\n",
    "        evalVars=evalVars\n",
    "    )\n",
    "    Pop = CardMatchPop(Encoding='RI',NIND = NIND)\n",
    "    Pop.set_cards(cards)\n",
    "    Pop.set_field(lbs,ubs,[1]*N)\n",
    "    print(type(Pop))\n",
    "    if try_algo == 0:\n",
    "        pass\n",
    "    elif try_algo == 1:\n",
    "        algorithm = ea.soea_SGA_templet(\n",
    "            problem = prob,\n",
    "            population=Pop,\n",
    "            MAXGEN=ITERS,\n",
    "            trappedValue=1e-8,\n",
    "            maxTrappedCount=10,logTras= 0\n",
    "        )\n",
    "    elif try_algo == 2:\n",
    "        algorithm = ea.soea_DE_best_1_bin_templet(\n",
    "            problem = prob,\n",
    "            population=Pop,\n",
    "            MAXGEN=ITERS,\n",
    "            trappedValue=1e-5,\n",
    "            maxTrappedCount=10,logTras= 0\n",
    "        )\n",
    "    elif try_algo == 3:\n",
    "        ##最快且解最好.\n",
    "        algorithm = ea.soea_GGAP_SGA_templet(\n",
    "            problem = prob,\n",
    "            population=Pop,\n",
    "            MAXGEN=ITERS,\n",
    "            trappedValue=1e-7,\n",
    "            maxTrappedCount=ITERS//10,\n",
    "            logTras= 0\n",
    "        )\n",
    "    #algorithm.mutOper.Parallel = True\n",
    "    print(type(Pop))\n",
    "    print(type(algorithm.population))\n",
    "    res = ea.optimize(algorithm,outputMsg=True,drawLog=True,saveFlag=False)\n",
    "    if res['Vars'] is None:\n",
    "        return None\n",
    "    return res['Vars'].flatten()"
   ]
  },
  {
   "cell_type": "code",
   "execution_count": 18,
   "id": "b8d6fd69-fabc-476b-9a90-198a4f4a89ec",
   "metadata": {
    "tags": []
   },
   "outputs": [],
   "source": [
    "class Trainer:\n",
    "    def __init__(self, act_card_idpath,\n",
    "                 char_card_idpath,\n",
    "                 id_actpath,\n",
    "                 id_charpath,\n",
    "                 deck_path,scan_save_path= 'deck_scan.json',char_eles_path = 'char_eles.json'):\n",
    "        with open(act_card_idpath) as act:\n",
    "            self.act_id = json.load(act)\n",
    "        with open(char_card_idpath) as char:\n",
    "            self.char_id = json.load(char)\n",
    "        with open(id_actpath) as id_act:\n",
    "            temp = json.load(id_act)\n",
    "            self.id_act = {}\n",
    "            for key in temp.keys():\n",
    "                self.id_act[int(key)] = temp[key]\n",
    "        with open(id_charpath) as id_char:\n",
    "            temp = json.load(id_char)\n",
    "            self.id_char = {}\n",
    "            for key in temp.keys():\n",
    "                self.id_char[int(key)] = temp[key]\n",
    "        with open(char_eles_path) as ce:\n",
    "            self.char_eles = json.load(ce)\n",
    "        self.dataset = get_png_paths(deck_path)\n",
    "        self.actnum = len(self.act_id)\n",
    "        self.charnum = len(self.char_id)\n",
    "        self.CharComfort = None\n",
    "        self.CharPreferAct = None\n",
    "        self.ActComfort = None\n",
    "        self.deckscan_path = scan_save_path\n",
    "    def norm_matrix(self):\n",
    "        self.CharComfort = np.zeros_like(self.c2c)\n",
    "        for i in range(self.c2c.shape[0]):\n",
    "            if self.cfreq[i] == 0:\n",
    "                continue\n",
    "            for j in range(self.c2c.shape[1]):\n",
    "                if self.cfreq[j] == 0:\n",
    "                    continue\n",
    "                self.CharComfort[i,j] = 2*self.c2c[i,j]/(self.cfreq[i]+self.cfreq[j])\n",
    "        self.CharPreferAct = np.zeros_like(self.c2a)\n",
    "        for i in range(self.c2a.shape[0]):\n",
    "            if self.cfreq[i] == 0:\n",
    "                continue\n",
    "            for j in range(self.c2a.shape[1]):\n",
    "                if self.afreq[j] == 0:\n",
    "                    continue\n",
    "                self.CharPreferAct[i,j] = 2*self.c2a[i,j]/(self.cfreq[i] + self.afreq[j])\n",
    "        self.ActComfort = np.zeros_like(self.a2a)\n",
    "        for i in range(self.a2a.shape[0]):\n",
    "            if self.afreq[i] == 0:\n",
    "                continue\n",
    "            for j in range(self.a2a.shape[1]):\n",
    "                if self.afreq[i] == 0:\n",
    "                    continue\n",
    "                self.ActComfort[i,j] = 2*self.a2a[i,j]/(self.afreq[i]+self.afreq[j])\n",
    "        #self.CharComfort = self.CharComfort/np.sum(self.CharComfort)\n",
    "        #self.CharPreferAct /= np.sum(self.CharPreferAct)\n",
    "        #self.ActComfort /= np.sum(self.ActComfort)\n",
    "        self.CharComfort /= 100\n",
    "        self.CharPreferAct /= 100\n",
    "        self.ActComfort /= 100\n",
    "    def _check_ele_type(self, card_name):\n",
    "        if card_name.find('rock') != -1 or card_name.find('stone') != -1:\n",
    "            return 'geo'\n",
    "        if card_name.find('flame')!=-1:\n",
    "            return 'pyro'\n",
    "        if card_name.find('voltage') != -1 or card_name.find('thunder')!=-1:\n",
    "            return 'electro'\n",
    "        if card_name.find('wind')!=-1:\n",
    "            return 'anemo'\n",
    "        if card_name.find('ice') !=-1:\n",
    "            return 'cryo'\n",
    "        if card_name.find('water') != -1:\n",
    "            return 'hydro'\n",
    "        if card_name.find('weeds') != -1 or card_name.find('green')!=-1:\n",
    "            return 'dendro'\n",
    "        pass\n",
    "    def ifpermit(self, chars, card):\n",
    "        \"\"\"检查chars和card是否合法.\n",
    "        chars: 一个长度为3的字典, key=char名, value=char_id\n",
    "        card: 长度为1的字典, key=card_name ,value=card_id\n",
    "        \"\"\"\n",
    "        char_eles = []\n",
    "        for char in chars:\n",
    "            char_eles.append(self.char_eles[char])\n",
    "        for name in card:\n",
    "            if name.find(\"elemental_resonance\") != -1:\n",
    "                ele_type = self._check_ele_type(name)\n",
    "                if char_eles.count(ele_type) < 2:\n",
    "                    return False\n",
    "        return True\n",
    "    def _update(self, scan_dict):\n",
    "        chars = scan_dict['characters']\n",
    "        actions = scan_dict['actions']\n",
    "        for char in chars.keys():\n",
    "            cid = self.char_id[char]\n",
    "            self.cfreq[cid] += 1\n",
    "            for pchar in chars.keys():\n",
    "                if pchar != char:\n",
    "                    pcid = self.char_id[pchar]\n",
    "                    self.c2c[cid][pcid] += 1\n",
    "            for act in actions.keys():\n",
    "                aid = self.act_id[act]\n",
    "                #self.c2a[cid][aid] += (actions[act] + 1)/2\n",
    "                self.c2a[cid][aid] += 1\n",
    "        for act in actions.keys():\n",
    "            aid = self.act_id[act]\n",
    "            #self.afreq[aid] += actions[act]\n",
    "            self.afreq[aid] += 1\n",
    "            for pact in actions.keys():\n",
    "                if pact != act:\n",
    "                    paid = self.act_id[pact]\n",
    "                    #self.a2a[aid][paid] += (actions[pact]+actions[act])/2\n",
    "                    self.a2a[aid][paid] += 1\n",
    "                #else:\n",
    "                #   self.a2a[aid][aid] += (actions[act] - 1)/2\n",
    "            #self.a2a[aid][aid] = self.afreq[aid]\n",
    "    def pre_scan(self):\n",
    "        res = []\n",
    "        for data in self.dataset:\n",
    "            res.append(scan(data))\n",
    "        with open(self.deckscan_path,'w') as dp:\n",
    "            json.dump(res,dp)\n",
    "        self.decks = res\n",
    "    def load_pre_scan(self):\n",
    "        with open(self.deckscan_path) as dp:\n",
    "            self.decks = json.load(dp)\n",
    "    def train(self, cfreq_path = './cfreq.npy',\n",
    "              afreq_path = './afreq.npy',\n",
    "              c2c_path = './c2c.npy',\n",
    "             c2a_path = './c2a.npy',\n",
    "             a2a_path = './a2a.npy'):\n",
    "        \"\"\"根据dataset进行训练. 这个函数将从头学习.\n",
    "        \"\"\"\n",
    "        self.cfreq = np.zeros(self.charnum)\n",
    "        self.afreq = np.zeros(self.actnum)\n",
    "        self.c2c = np.zeros((self.charnum, self.charnum))\n",
    "        self.c2a = np.zeros((self.charnum, self.actnum))\n",
    "        self.a2a = np.zeros((self.actnum, self.actnum))\n",
    "        for deck in self.decks:\n",
    "            self._update(deck)\n",
    "        self.norm_matrix()\n",
    "        self.eles = {}\n",
    "        for char, cid in self.char_id.items():\n",
    "            self.eles[cid] = self.char_eles[char]\n",
    "        np.save(cfreq_path, self.cfreq)\n",
    "        np.save(afreq_path, self.afreq)\n",
    "        np.save(c2c_path, self.c2c)\n",
    "        np.save(c2a_path, self.c2a)\n",
    "        np.save(a2a_path, self.a2a)\n",
    "        print(\"train finished\")\n",
    "    def learn(self, total_path = './total.npy',\n",
    "              c2c_path = './c2c.npy',\n",
    "             c2a_path = './c2a.npy',\n",
    "             a2a_path = './a2a.npy'):\n",
    "        \"\"\"根据dataset进行训练. 这个函数不会从头学习, 因此必须保证dataset从未训练过!\n",
    "        \"\"\"\n",
    "        pass\n",
    "    def load(self, cfreq_path = './cfreq.npy',\n",
    "              afreq_path = './afreq.npy',\n",
    "              c2c_path = './c2c.npy',\n",
    "             c2a_path = './c2a.npy',\n",
    "             a2a_path = './a2a.npy'):\n",
    "        self.cfreq = np.load(cfreq_path)\n",
    "        self.afreq = np.load(afreq_path)\n",
    "        self.c2c = np.load(c2c_path)\n",
    "        self.c2a = np.load(c2a_path)\n",
    "        self.a2a = np.load(a2a_path)\n",
    "        self.norm_matrix()\n",
    "        self.load_pre_scan()\n",
    "    def predict(self, character_name, \n",
    "                GROUP_SIZE = 500, ITERS= 500,\n",
    "               try_algo = 3,rb = 5, cb = 3):\n",
    "        if self.CharComfort is None:\n",
    "            print(\"please load data first\")\n",
    "            return None\n",
    "        cid = self.char_id[character_name]\n",
    "        res = {}\n",
    "        pal1, pal2 = BestChars(self.CharComfort, cid, self.eles)\n",
    "        #print(self.id_char)\n",
    "        res['chars'] = (self.id_char[cid], self.id_char[pal1], self.id_char[pal2])\n",
    "        chars = {res['chars'][0]:cid, res['chars'][1]:pal1, res['chars'][2]:pal2}\n",
    "        ban_list = [self.act_id['blank']]\n",
    "        for card in self.act_id:\n",
    "            if not self.ifpermit(chars,{card:self.act_id[card]}):\n",
    "                ban_list.append(self.act_id[card])\n",
    "        #print([self.id_act[ids] for ids in ban_list])\n",
    "        cards = MatchCardGA(self.ActComfort, (cid,pal1,pal2),\n",
    "                            self.CharPreferAct,ban_list = ban_list,char_bonus=cb,\n",
    "                            try_algo=try_algo, NIND= GROUP_SIZE,ITERS= ITERS,repeat_bonus= rb)\n",
    "        selected_indices = np.nonzero(cards)[0]\n",
    "        deck = {}\n",
    "        print(selected_indices)\n",
    "        for i in range(len(selected_indices)):\n",
    "            idx = selected_indices[i]\n",
    "            deck[self.id_act[idx]] = cards[idx]\n",
    "        res['deck'] = deck\n",
    "        print(\"推荐卡组:\")\n",
    "        print(res)\n",
    "        return res"
   ]
  },
  {
   "cell_type": "code",
   "execution_count": 19,
   "id": "4e3e09e9-4ab4-4986-b50b-1dbc808c1b75",
   "metadata": {
    "tags": []
   },
   "outputs": [],
   "source": [
    "if False:\n",
    "    char_id_mapping()\n",
    "    action_id_mapping()"
   ]
  },
  {
   "cell_type": "code",
   "execution_count": 20,
   "id": "d08857a3-aabe-4231-9c72-a1d36697bded",
   "metadata": {
    "tags": []
   },
   "outputs": [],
   "source": [
    "from pathlib import Path\n",
    "abs_path = str(Path(\"__file__\").parent.absolute())\n",
    "T = Trainer('action_id.json','char_id.json',\n",
    "            'id_action.json','id_char.json',abs_path + '\\\\'+ 'scanner\\\\python\\\\datasets')"
   ]
  },
  {
   "cell_type": "code",
   "execution_count": 21,
   "id": "069bf22e-fe7e-4e94-be07-fa650e842f43",
   "metadata": {
    "tags": []
   },
   "outputs": [
    {
     "name": "stdout",
     "output_type": "stream",
     "text": [
      "train finished\n"
     ]
    }
   ],
   "source": [
    "#T.pre_scan()\n",
    "T.load()\n",
    "T.train()\n",
    "##TODO: 设置scanned.json控制数据集"
   ]
  },
  {
   "cell_type": "code",
   "execution_count": 23,
   "id": "d1351397-93ac-4ce8-9c70-f6e8185b249c",
   "metadata": {
    "tags": []
   },
   "outputs": [
    {
     "name": "stdout",
     "output_type": "stream",
     "text": [
      "<class '__main__.CardMatchPop'>\n",
      "<class '__main__.CardMatchPop'>\n",
      "<class '__main__.CardMatchPop'>\n",
      "init pop cost 0.03345823287963867s\n"
     ]
    },
    {
     "data": {
      "image/png": "[encoded data removed]",
      "text/plain": [
       "<Figure size 432x288 with 1 Axes>"
      ]
     },
     "metadata": {
      "needs_background": "light"
     },
     "output_type": "display_data"
    },
    {
     "name": "stdout",
     "output_type": "stream",
     "text": [
      "Execution time: 76.53207302093506 s\n",
      "Evaluation number: 440000\n",
      "The best objective value is: 21.477360426666632\n",
      "The best variables are: \n",
      "0\t2\t0\t0\t0\t0\t0\t0\t0\t0\t0\t1\t0\t0\t2\t0\t0\t0\t0\t0\t0\t0\t0\t0\t0\t2\t0\t0\t0\t0\t0\t2\t0\t0\t0\t0\t0\t0\t0\t0\t0\t0\t0\t0\t0\t0\t0\t0\t0\t2\t0\t0\t0\t0\t2\t0\t0\t1\t1\t0\t0\t1\t2\t0\t0\t0\t0\t0\t0\t0\t2\t0\t0\t2\t0\t2\t0\t0\t0\t0\t0\t0\t0\t0\t0\t0\t0\t0\t0\t0\t0\t2\t0\t0\t0\t0\t0\t0\t2\t2\t0\t0\t0\t0\t0\t0\t0\t0\t0\t0\t0\t0\t0\t0\t0\t0\t0\t0\t0\t0\t0\t0\t\n",
      "[ 1 11 14 25 31 49 54 57 58 61 62 70 73 75 91 98 99]\n",
      "推荐卡组:\n",
      "{'chars': ('fischl', 'mirror_maiden', 'rhodeia_of_loch'), 'deck': {'adeptus_temptation': 2, 'changing_shifts': 1, 'chef_mao': 2, 'elemental_resonance_soothing_water': 2, 'elemental_resonance_woven_waters': 2, 'i_havent_lost_yet!': 2, 'knights_of_favonius_library': 2, 'leave_it_to_me!': 1, 'liben': 1, 'liyue_harbor_wharf': 1, 'lotus_flower_crisp': 2, 'mushroom_pizza': 2, 'nre': 2, 'paimon': 2, 'starsigns': 2, 'sweet_madame': 2, 'the_bestest_travel_companion!': 2}}\n"
     ]
    },
    {
     "data": {
      "text/plain": [
       "{'chars': ('fischl', 'mirror_maiden', 'rhodeia_of_loch'),\n",
       " 'deck': {'adeptus_temptation': 2,\n",
       "  'changing_shifts': 1,\n",
       "  'chef_mao': 2,\n",
       "  'elemental_resonance_soothing_water': 2,\n",
       "  'elemental_resonance_woven_waters': 2,\n",
       "  'i_havent_lost_yet!': 2,\n",
       "  'knights_of_favonius_library': 2,\n",
       "  'leave_it_to_me!': 1,\n",
       "  'liben': 1,\n",
       "  'liyue_harbor_wharf': 1,\n",
       "  'lotus_flower_crisp': 2,\n",
       "  'mushroom_pizza': 2,\n",
       "  'nre': 2,\n",
       "  'paimon': 2,\n",
       "  'starsigns': 2,\n",
       "  'sweet_madame': 2,\n",
       "  'the_bestest_travel_companion!': 2}}"
      ]
     },
     "execution_count": 23,
     "metadata": {},
     "output_type": "execute_result"
    }
   ],
   "source": [
    "T.predict(\"fischl\",cb=0.1, GROUP_SIZE= 5000)"
   ]
  },
  {
   "cell_type": "code",
   "execution_count": 24,
   "id": "2eebfff8-a2ca-4639-baae-2b0868c129ea",
   "metadata": {
    "tags": []
   },
   "outputs": [
    {
     "name": "stdout",
     "output_type": "stream",
     "text": [
      "<class '__main__.CardMatchPop'>\n",
      "<class '__main__.CardMatchPop'>\n",
      "<class '__main__.CardMatchPop'>\n",
      "init pop cost 0.01802349090576172s\n"
     ]
    },
    {
     "data": {
      "image/png": "[encoded data removed]",
      "text/plain": [
       "<Figure size 432x288 with 1 Axes>"
      ]
     },
     "metadata": {
      "needs_background": "light"
     },
     "output_type": "display_data"
    },
    {
     "name": "stdout",
     "output_type": "stream",
     "text": [
      "Execution time: 40.9783136844635 s\n",
      "Evaluation number: 261000\n",
      "The best objective value is: 20.438144574664\n",
      "The best variables are: \n",
      "0\t0\t0\t0\t0\t0\t0\t0\t0\t0\t2\t0\t2\t2\t0\t0\t0\t0\t0\t0\t0\t0\t0\t2\t0\t0\t0\t0\t0\t0\t0\t0\t0\t2\t0\t0\t0\t0\t0\t0\t2\t0\t0\t0\t0\t0\t2\t0\t0\t0\t0\t0\t0\t0\t0\t0\t0\t0\t2\t0\t0\t2\t2\t0\t0\t0\t0\t0\t0\t2\t2\t0\t0\t0\t0\t1\t0\t0\t0\t0\t0\t0\t0\t2\t0\t0\t0\t0\t0\t0\t0\t0\t0\t0\t0\t0\t0\t0\t0\t1\t0\t0\t0\t0\t0\t2\t0\t0\t0\t0\t0\t0\t0\t0\t0\t0\t0\t0\t0\t0\t0\t0\t\n",
      "[ 10  12  13  23  33  40  46  58  61  62  69  70  75  83  99 105]\n",
      "推荐卡组:\n",
      "{'chars': ('mona', 'jean', 'sucrose'), 'deck': {'calxs_arts': 2, 'chang_the_ninth': 2, 'chaotic_entropy': 2, 'elemental_resonance_impetuous_winds': 2, 'elemental_resonance_woven_winds': 2, 'gamblers_earrings': 2, 'instructors_cap': 2, 'liben': 2, 'liyue_harbor_wharf': 2, 'lotus_flower_crisp': 2, 'mondstadt_hash_brown': 2, 'mushroom_pizza': 2, 'paimon': 1, 'sacrificial_fragments': 2, 'the_bestest_travel_companion!': 1, 'timmie': 2}}\n"
     ]
    },
    {
     "data": {
      "text/plain": [
       "{'chars': ('mona', 'jean', 'sucrose'),\n",
       " 'deck': {'calxs_arts': 2,\n",
       "  'chang_the_ninth': 2,\n",
       "  'chaotic_entropy': 2,\n",
       "  'elemental_resonance_impetuous_winds': 2,\n",
       "  'elemental_resonance_woven_winds': 2,\n",
       "  'gamblers_earrings': 2,\n",
       "  'instructors_cap': 2,\n",
       "  'liben': 2,\n",
       "  'liyue_harbor_wharf': 2,\n",
       "  'lotus_flower_crisp': 2,\n",
       "  'mondstadt_hash_brown': 2,\n",
       "  'mushroom_pizza': 2,\n",
       "  'paimon': 1,\n",
       "  'sacrificial_fragments': 2,\n",
       "  'the_bestest_travel_companion!': 1,\n",
       "  'timmie': 2}}"
      ]
     },
     "execution_count": 24,
     "metadata": {},
     "output_type": "execute_result"
    }
   ],
   "source": [
    "T.predict(\"mona\",cb = 0.1,GROUP_SIZE=3000)"
   ]
  },
  {
   "cell_type": "code",
   "execution_count": 36,
   "id": "f841fc82-f631-4a6e-b56b-b0d58eae4369",
   "metadata": {
    "tags": []
   },
   "outputs": [
    {
     "name": "stdout",
     "output_type": "stream",
     "text": [
      "<class '__main__.CardMatchPop'>\n",
      "<class '__main__.CardMatchPop'>\n",
      "<class '__main__.CardMatchPop'>\n",
      "init pop cost 0.1344001293182373s\n"
     ]
    },
    {
     "data": {
      "image/png": "[encoded data removed]",
      "text/plain": [
       "<Figure size 432x288 with 1 Axes>"
      ]
     },
     "metadata": {
      "needs_background": "light"
     },
     "output_type": "display_data"
    },
    {
     "name": "stdout",
     "output_type": "stream",
     "text": [
      "Execution time: 34.462342500686646 s\n",
      "Evaluation number: 273000\n",
      "The best objective value is: 8.223284732332724\n",
      "The best variables are: \n",
      "0\t0\t0\t0\t0\t0\t0\t0\t0\t0\t0\t2\t1\t0\t0\t0\t0\t0\t0\t0\t0\t2\t0\t0\t0\t0\t0\t2\t0\t0\t0\t0\t0\t0\t0\t0\t0\t0\t0\t0\t2\t0\t0\t0\t0\t0\t0\t0\t0\t2\t0\t0\t0\t0\t0\t0\t0\t2\t2\t0\t1\t0\t2\t0\t0\t0\t0\t0\t0\t2\t1\t0\t1\t0\t0\t2\t0\t0\t0\t0\t0\t0\t0\t0\t0\t0\t1\t0\t0\t0\t0\t1\t0\t0\t0\t0\t1\t0\t0\t2\t0\t0\t0\t0\t0\t1\t0\t0\t0\t0\t0\t0\t0\t0\t0\t0\t0\t0\t0\t0\t0\t0\t\n",
      "[ 11  12  21  27  40  49  57  58  60  62  69  70  72  75  86  91  96  99\n",
      " 105]\n",
      "推荐卡组:\n",
      "{'chars': ('bennett', 'cyno', 'fatui_pyro_agent'), 'deck': {'changing_shifts': 2, 'chang_the_ninth': 1, 'elemental_resonance_fervent_flames': 2, 'elemental_resonance_woven_flames': 2, 'gamblers_earrings': 2, 'i_havent_lost_yet!': 2, 'leave_it_to_me!': 2, 'liben': 2, 'liu_su': 1, 'lotus_flower_crisp': 2, 'mondstadt_hash_brown': 2, 'mushroom_pizza': 1, 'northern_smoked_chicken': 1, 'paimon': 2, 'send_off': 1, 'starsigns': 1, 'strategize': 1, 'the_bestest_travel_companion!': 2, 'timmie': 1}}\n"
     ]
    },
    {
     "data": {
      "text/plain": [
       "{'chars': ('bennett', 'cyno', 'fatui_pyro_agent'),\n",
       " 'deck': {'changing_shifts': 2,\n",
       "  'chang_the_ninth': 1,\n",
       "  'elemental_resonance_fervent_flames': 2,\n",
       "  'elemental_resonance_woven_flames': 2,\n",
       "  'gamblers_earrings': 2,\n",
       "  'i_havent_lost_yet!': 2,\n",
       "  'leave_it_to_me!': 2,\n",
       "  'liben': 2,\n",
       "  'liu_su': 1,\n",
       "  'lotus_flower_crisp': 2,\n",
       "  'mondstadt_hash_brown': 2,\n",
       "  'mushroom_pizza': 1,\n",
       "  'northern_smoked_chicken': 1,\n",
       "  'paimon': 2,\n",
       "  'send_off': 1,\n",
       "  'starsigns': 1,\n",
       "  'strategize': 1,\n",
       "  'the_bestest_travel_companion!': 2,\n",
       "  'timmie': 1}}"
      ]
     },
     "execution_count": 36,
     "metadata": {},
     "output_type": "execute_result"
    }
   ],
   "source": [
    "T.predict(\"bennett\",cb = 10, GROUP_SIZE= 3000)"
   ]
  },
  {
   "cell_type": "code",
   "execution_count": 37,
   "id": "8b778151-80e0-466c-9d51-ff854dc0d8af",
   "metadata": {},
   "outputs": [
    {
     "name": "stdout",
     "output_type": "stream",
     "text": [
      "<class '__main__.CardMatchPop'>\n",
      "<class '__main__.CardMatchPop'>\n",
      "<class '__main__.CardMatchPop'>\n",
      "init pop cost 0.0218660831451416s\n"
     ]
    },
    {
     "data": {
      "image/png": "[encoded data removed]",
      "text/plain": [
       "<Figure size 432x288 with 1 Axes>"
      ]
     },
     "metadata": {
      "needs_background": "light"
     },
     "output_type": "display_data"
    },
    {
     "name": "stdout",
     "output_type": "stream",
     "text": [
      "Execution time: 39.70861029624939 s\n",
      "Evaluation number: 258000\n",
      "The best objective value is: 9.232020565605911\n",
      "The best variables are: \n",
      "0\t0\t0\t0\t0\t0\t0\t0\t0\t0\t0\t2\t2\t0\t0\t0\t0\t0\t0\t0\t0\t0\t0\t0\t2\t0\t0\t0\t1\t0\t0\t0\t0\t0\t0\t0\t0\t0\t0\t0\t2\t0\t0\t0\t0\t0\t0\t0\t0\t1\t0\t0\t0\t0\t0\t0\t0\t2\t2\t0\t2\t0\t2\t0\t0\t0\t0\t0\t0\t1\t1\t0\t2\t0\t0\t2\t0\t0\t0\t0\t0\t0\t0\t0\t0\t0\t0\t0\t0\t0\t0\t0\t0\t0\t0\t0\t1\t0\t0\t2\t0\t0\t0\t0\t0\t2\t0\t0\t0\t0\t0\t1\t0\t0\t0\t0\t0\t0\t0\t0\t0\t0\t\n",
      "[ 11  12  24  28  40  49  57  58  60  62  69  70  72  75  96  99 105 111]\n",
      "推荐卡组:\n",
      "{'chars': ('ganyu', 'kamisato_ayaka', 'xingqiu'), 'deck': {'changing_shifts': 2, 'chang_the_ninth': 2, 'elemental_resonance_shattering_ice': 2, 'elemental_resonance_woven_ice': 1, 'gamblers_earrings': 2, 'i_havent_lost_yet!': 1, 'leave_it_to_me!': 2, 'liben': 2, 'liu_su': 2, 'lotus_flower_crisp': 2, 'mondstadt_hash_brown': 1, 'mushroom_pizza': 1, 'northern_smoked_chicken': 2, 'paimon': 2, 'strategize': 1, 'the_bestest_travel_companion!': 2, 'timmie': 2, 'undivided_heart': 1}}\n"
     ]
    },
    {
     "data": {
      "text/plain": [
       "{'chars': ('ganyu', 'kamisato_ayaka', 'xingqiu'),\n",
       " 'deck': {'changing_shifts': 2,\n",
       "  'chang_the_ninth': 2,\n",
       "  'elemental_resonance_shattering_ice': 2,\n",
       "  'elemental_resonance_woven_ice': 1,\n",
       "  'gamblers_earrings': 2,\n",
       "  'i_havent_lost_yet!': 1,\n",
       "  'leave_it_to_me!': 2,\n",
       "  'liben': 2,\n",
       "  'liu_su': 2,\n",
       "  'lotus_flower_crisp': 2,\n",
       "  'mondstadt_hash_brown': 1,\n",
       "  'mushroom_pizza': 1,\n",
       "  'northern_smoked_chicken': 2,\n",
       "  'paimon': 2,\n",
       "  'strategize': 1,\n",
       "  'the_bestest_travel_companion!': 2,\n",
       "  'timmie': 2,\n",
       "  'undivided_heart': 1}}"
      ]
     },
     "execution_count": 37,
     "metadata": {},
     "output_type": "execute_result"
    }
   ],
   "source": [
    "T.predict(\"ganyu\",cb=10,GROUP_SIZE= 3000)"
   ]
  },
  {
   "cell_type": "code",
   "execution_count": 39,
   "id": "18c66337-72f1-4402-b51f-000ec76f79f6",
   "metadata": {
    "tags": []
   },
   "outputs": [
    {
     "name": "stdout",
     "output_type": "stream",
     "text": [
      "<class '__main__.CardMatchPop'>\n",
      "<class '__main__.CardMatchPop'>\n",
      "<class '__main__.CardMatchPop'>\n",
      "init pop cost 0.02399611473083496s\n"
     ]
    },
    {
     "data": {
      "image/png": "[encoded data removed]",
      "text/plain": [
       "<Figure size 432x288 with 1 Axes>"
      ]
     },
     "metadata": {
      "needs_background": "light"
     },
     "output_type": "display_data"
    },
    {
     "name": "stdout",
     "output_type": "stream",
     "text": [
      "Execution time: 46.1378436088562 s\n",
      "Evaluation number: 291000\n",
      "The best objective value is: 9.22316534807195\n",
      "The best variables are: \n",
      "0\t0\t0\t0\t0\t0\t0\t0\t0\t0\t0\t2\t2\t0\t0\t0\t0\t0\t0\t0\t0\t0\t0\t0\t1\t0\t0\t0\t1\t0\t0\t0\t0\t0\t0\t0\t0\t0\t0\t0\t2\t0\t0\t0\t0\t0\t0\t0\t0\t2\t0\t0\t0\t0\t0\t0\t0\t2\t2\t0\t2\t0\t2\t0\t0\t0\t0\t0\t0\t2\t1\t0\t2\t0\t0\t2\t0\t0\t0\t0\t0\t0\t0\t0\t0\t0\t0\t0\t0\t0\t0\t0\t0\t0\t0\t0\t2\t0\t0\t2\t0\t0\t0\t0\t0\t1\t0\t0\t0\t0\t0\t0\t0\t0\t0\t0\t0\t0\t0\t0\t0\t0\t\n",
      "[ 11  12  24  28  40  49  57  58  60  62  69  70  72  75  96  99 105]\n",
      "推荐卡组:\n",
      "{'chars': ('chongyun', 'kamisato_ayaka', 'xingqiu'), 'deck': {'changing_shifts': 2, 'chang_the_ninth': 2, 'elemental_resonance_shattering_ice': 1, 'elemental_resonance_woven_ice': 1, 'gamblers_earrings': 2, 'i_havent_lost_yet!': 2, 'leave_it_to_me!': 2, 'liben': 2, 'liu_su': 2, 'lotus_flower_crisp': 2, 'mondstadt_hash_brown': 2, 'mushroom_pizza': 1, 'northern_smoked_chicken': 2, 'paimon': 2, 'strategize': 2, 'the_bestest_travel_companion!': 2, 'timmie': 1}}\n"
     ]
    },
    {
     "data": {
      "text/plain": [
       "{'chars': ('chongyun', 'kamisato_ayaka', 'xingqiu'),\n",
       " 'deck': {'changing_shifts': 2,\n",
       "  'chang_the_ninth': 2,\n",
       "  'elemental_resonance_shattering_ice': 1,\n",
       "  'elemental_resonance_woven_ice': 1,\n",
       "  'gamblers_earrings': 2,\n",
       "  'i_havent_lost_yet!': 2,\n",
       "  'leave_it_to_me!': 2,\n",
       "  'liben': 2,\n",
       "  'liu_su': 2,\n",
       "  'lotus_flower_crisp': 2,\n",
       "  'mondstadt_hash_brown': 2,\n",
       "  'mushroom_pizza': 1,\n",
       "  'northern_smoked_chicken': 2,\n",
       "  'paimon': 2,\n",
       "  'strategize': 2,\n",
       "  'the_bestest_travel_companion!': 2,\n",
       "  'timmie': 1}}"
      ]
     },
     "execution_count": 39,
     "metadata": {},
     "output_type": "execute_result"
    }
   ],
   "source": [
    "T.predict(\"chongyun\",cb= 10,GROUP_SIZE= 3000)"
   ]
  },
  {
   "cell_type": "code",
   "execution_count": 15,
   "id": "21e1ad4b-3dd6-4fda-a4b4-1b1195055ee0",
   "metadata": {
    "tags": []
   },
   "outputs": [
    {
     "name": "stdout",
     "output_type": "stream",
     "text": [
      "<class '__main__.CardMatchPop'>\n",
      "<class '__main__.CardMatchPop'>\n",
      "<class '__main__.CardMatchPop'>\n",
      "init pop cost 0.026026248931884766s\n"
     ]
    },
    {
     "data": {
      "image/png": "[encoded data removed]",
      "text/plain": [
       "<Figure size 432x288 with 1 Axes>"
      ]
     },
     "metadata": {
      "needs_background": "light"
     },
     "output_type": "display_data"
    },
    {
     "name": "stdout",
     "output_type": "stream",
     "text": [
      "Execution time: 43.042094469070435 s\n",
      "Evaluation number: 282000\n",
      "The best objective value is: 8.975189994255608\n",
      "The best variables are: \n",
      "0\t1\t0\t0\t0\t0\t0\t0\t0\t0\t0\t1\t2\t0\t0\t0\t0\t0\t0\t0\t0\t0\t0\t0\t0\t0\t0\t0\t0\t0\t0\t0\t0\t0\t0\t0\t0\t0\t0\t0\t2\t0\t0\t0\t0\t0\t0\t0\t0\t1\t0\t0\t0\t0\t0\t0\t0\t2\t2\t0\t2\t0\t2\t0\t0\t0\t0\t0\t0\t2\t2\t0\t2\t0\t0\t2\t0\t0\t0\t0\t0\t0\t0\t0\t0\t0\t1\t0\t0\t0\t0\t0\t0\t0\t0\t0\t2\t0\t0\t2\t0\t0\t0\t0\t0\t2\t0\t0\t0\t0\t0\t0\t0\t0\t0\t0\t0\t0\t0\t0\t0\t0\t\n",
      "[  1  11  12  40  49  57  58  60  62  69  70  72  75  86  96  99 105]\n",
      "推荐卡组:\n",
      "{'chars': ('klee', 'kamisato_ayaka', 'xingqiu'), 'deck': {'adeptus_temptation': 1, 'changing_shifts': 1, 'chang_the_ninth': 2, 'gamblers_earrings': 2, 'i_havent_lost_yet!': 1, 'leave_it_to_me!': 2, 'liben': 2, 'liu_su': 2, 'lotus_flower_crisp': 2, 'mondstadt_hash_brown': 2, 'mushroom_pizza': 2, 'northern_smoked_chicken': 2, 'paimon': 2, 'send_off': 1, 'strategize': 2, 'the_bestest_travel_companion!': 2, 'timmie': 2}}\n"
     ]
    },
    {
     "data": {
      "text/plain": [
       "{'chars': ('klee', 'kamisato_ayaka', 'xingqiu'),\n",
       " 'deck': {'adeptus_temptation': 1,\n",
       "  'changing_shifts': 1,\n",
       "  'chang_the_ninth': 2,\n",
       "  'gamblers_earrings': 2,\n",
       "  'i_havent_lost_yet!': 1,\n",
       "  'leave_it_to_me!': 2,\n",
       "  'liben': 2,\n",
       "  'liu_su': 2,\n",
       "  'lotus_flower_crisp': 2,\n",
       "  'mondstadt_hash_brown': 2,\n",
       "  'mushroom_pizza': 2,\n",
       "  'northern_smoked_chicken': 2,\n",
       "  'paimon': 2,\n",
       "  'send_off': 1,\n",
       "  'strategize': 2,\n",
       "  'the_bestest_travel_companion!': 2,\n",
       "  'timmie': 2}}"
      ]
     },
     "execution_count": 15,
     "metadata": {},
     "output_type": "execute_result"
    }
   ],
   "source": [
    "T.predict(\"klee\",cb=10,GROUP_SIZE= 3000)"
   ]
  },
  {
   "cell_type": "code",
   "execution_count": null,
   "id": "f003da0a-6be7-4dca-82ca-704716bb7c92",
   "metadata": {},
   "outputs": [],
   "source": []
  }
 ],
 "metadata": {
  "kernelspec": {
   "display_name": "Python 3 (ipykernel)",
   "language": "python",
   "name": "python3"
  },
  "language_info": {
   "codemirror_mode": {
    "name": "ipython",
    "version": 3
   },
   "file_extension": ".py",
   "mimetype": "text/x-python",
   "name": "python",
   "nbconvert_exporter": "python",
   "pygments_lexer": "ipython3",
   "version": "3.8.8"
  }
 },
 "nbformat": 4,
 "nbformat_minor": 5
}
