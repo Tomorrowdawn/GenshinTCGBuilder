{
 "cells": [
  {
   "cell_type": "code",
   "execution_count": 1,
   "id": "5b8f3b4b-1584-4693-befb-7f749db33bd4",
   "metadata": {
    "tags": []
   },
   "outputs": [],
   "source": [
    "import json\n",
    "import geatpy as ea\n",
    "from utils import get_png_paths, scan,char_id_mapping, action_id_mapping"
   ]
  },
  {
   "cell_type": "code",
   "execution_count": 2,
   "id": "84af3bb8-407d-4fa9-a600-c7fd87e334f3",
   "metadata": {
    "tags": []
   },
   "outputs": [],
   "source": [
    "import numpy as np\n",
    "import geatpy as ea\n",
    "import time\n",
    "import random\n",
    "class CardMatchPop(ea.Population):\n",
    "    def set_cards(self, cards):\n",
    "        #print(\"我服辣\")\n",
    "        self.cards = cards\n",
    "    def set_field(self, lbs,ubs,types):\n",
    "        self.Field = np.vstack((np.array(lbs),np.array(ubs),np.array(types)))\n",
    "    def initChrom(self, NIND):\n",
    "        #print(\"妈妈生的\")\n",
    "        if NIND is not None:\n",
    "            self.sizes = NIND  # 重新设置种群规模\n",
    "        if self.cards is None:\n",
    "            raise ValueError(\"cards not initialized\")\n",
    "        var_nums = self.Field.shape[1]\n",
    "        res = []\n",
    "        now = time.time()\n",
    "        for i in range(self.sizes):\n",
    "            twos = random.randint(0, self.cards//2 - 1)\n",
    "            t = [2]*twos + [1]*(self.cards-twos) + [0]*(var_nums - self.cards)\n",
    "            np.random.shuffle(t)\n",
    "            res.append(t)\n",
    "        print(\"init pop cost {}s\".format(time.time()-now),flush= True)\n",
    "        self.Chrom = np.array(res)\n",
    "        self.Lind = self.Chrom.shape[1]  # 计算染色体的长度\n",
    "        self.ObjV = None\n",
    "        self.FitnV = None\n",
    "        self.CV = None\n",
    "        \n",
    "def BestChars(CharComfort:np.ndarray, selected_char):\n",
    "    \"\"\"给定一个角色的id,返回他的最佳队友\"\"\"\n",
    "    charnum = CharComfort.shape[0]\n",
    "    best_pair = (0,0)\n",
    "    best_scores = float('-inf')\n",
    "    for j in range(charnum):\n",
    "        if j == selected_char:\n",
    "            continue\n",
    "        for k in range(charnum):\n",
    "            if k == j or k == selected_char:\n",
    "                continue\n",
    "            scores = CharComfort[selected_char,j] + CharComfort[j,k] + CharComfort[selected_char,k]\n",
    "            if scores > best_scores:\n",
    "                best_pair = (j ,k)\n",
    "                best_scores = scores\n",
    "    return best_pair\n",
    "def MatchCardGA(comfort,selected_chars, c2a , card_num = 30, try_algo = 3, NIND = 500, ITERS = 300):\n",
    "    cards = card_num\n",
    "    sigma = 0.82\n",
    "    N = comfort.shape[0]\n",
    "    portion = 0.05\n",
    "    weight = np.zeros(N)\n",
    "    for char_idx in selected_chars:\n",
    "        weight += c2a[char_idx, :].flatten()\n",
    "    @ea.Problem.single\n",
    "    def evalVars(Vars):\n",
    "        f = np.dot(np.dot(Vars, comfort), Vars) + np.dot(weight, Vars)\n",
    "        CV = np.array([np.abs(np.sum(Vars) - cards)])\n",
    "        return f, CV\n",
    "    prob = ea.Problem(\n",
    "        name = \"Card Matching\",\n",
    "        M = 1,\n",
    "        maxormins = [-1],\n",
    "        Dim = comfort.shape[0],\n",
    "        varTypes=[1]*comfort.shape[0],\n",
    "        lb = [0]*N,\n",
    "        ub = [2]*N,\n",
    "        evalVars=evalVars\n",
    "    )\n",
    "    Pop = CardMatchPop(Encoding='RI',NIND = NIND)\n",
    "    Pop.set_cards(cards)\n",
    "    Pop.set_field([0]*N,[2]*N,[1]*N)\n",
    "    print(type(Pop))\n",
    "    if try_algo == 0:\n",
    "        pass\n",
    "    elif try_algo == 1:\n",
    "        algorithm = ea.soea_SGA_templet(\n",
    "            problem = prob,\n",
    "            population=Pop,\n",
    "            MAXGEN=ITERS,\n",
    "            trappedValue=1e-8,\n",
    "            maxTrappedCount=10,logTras= 0\n",
    "        )\n",
    "    elif try_algo == 2:\n",
    "        algorithm = ea.soea_DE_best_1_bin_templet(\n",
    "            problem = prob,\n",
    "            population=Pop,\n",
    "            MAXGEN=ITERS,\n",
    "            trappedValue=1e-5,\n",
    "            maxTrappedCount=10,logTras= 0\n",
    "        )\n",
    "    elif try_algo == 3:\n",
    "        ##最快且解最好.\n",
    "        algorithm = ea.soea_GGAP_SGA_templet(\n",
    "            problem = prob,\n",
    "            population=Pop,\n",
    "            MAXGEN=ITERS,\n",
    "            trappedValue=1e-6,\n",
    "            maxTrappedCount=ITERS//10,\n",
    "            logTras= 0\n",
    "        )\n",
    "    #algorithm.mutOper.Parallel = True\n",
    "    print(type(Pop))\n",
    "    print(type(algorithm.population))\n",
    "    res = ea.optimize(algorithm,outputMsg=True,drawLog=True,saveFlag=False)\n",
    "    if res['Vars'] is None:\n",
    "        return None\n",
    "    return res['Vars'].flatten()"
   ]
  },
  {
   "cell_type": "code",
   "execution_count": 3,
   "id": "b8d6fd69-fabc-476b-9a90-198a4f4a89ec",
   "metadata": {
    "tags": []
   },
   "outputs": [],
   "source": [
    "class Trainer:\n",
    "    def __init__(self, act_card_idpath,\n",
    "                 char_card_idpath,\n",
    "                 id_actpath,\n",
    "                 id_charpath,\n",
    "                 deck_path):\n",
    "        with open(act_card_idpath) as act:\n",
    "            self.act_id = json.load(act)\n",
    "        with open(char_card_idpath) as char:\n",
    "            self.char_id = json.load(char)\n",
    "        with open(id_actpath) as id_act:\n",
    "            temp = json.load(id_act)\n",
    "            self.id_act = {}\n",
    "            for key in temp.keys():\n",
    "                self.id_act[int(key)] = temp[key]\n",
    "        with open(id_charpath) as id_char:\n",
    "            temp = json.load(id_char)\n",
    "            self.id_char = {}\n",
    "            for key in temp.keys():\n",
    "                self.id_char[int(key)] = temp[key]\n",
    "        self.dataset = get_png_paths(deck_path)\n",
    "        self.actnum = len(self.act_id)\n",
    "        self.charnum = len(self.char_id)\n",
    "        self.CharComfort = None\n",
    "        self.CharPreferAct = None\n",
    "        self.ActComfort = None\n",
    "    def ifpermit(self, chars, card):\n",
    "        \"\"\"检查chars和card是否合法.\n",
    "        chars: 一个长度为3的字典, key=char名, value=char_id\n",
    "        card: 长度为1的字典, key=card_name ,value=card_id\n",
    "        \"\"\"\n",
    "        return True\n",
    "    def _update(self, scan_dict):\n",
    "        chars = scan_dict['characters']\n",
    "        actions = scan_dict['actions']\n",
    "        for char in chars.keys():\n",
    "            cid = self.char_id[char]\n",
    "            self.cfreq[cid] += 1\n",
    "            for pchar in chars.keys():\n",
    "                if pchar != char:\n",
    "                    pcid = self.char_id[pchar]\n",
    "                    self.c2c[cid][pcid] += 1\n",
    "            for act in actions.keys():\n",
    "                aid = self.act_id[act]\n",
    "                self.c2a[cid][aid] += actions[act]\n",
    "        for act in actions.keys():\n",
    "            aid = self.act_id[act]\n",
    "            self.afreq[aid] += actions[act]\n",
    "            for pact in actions.keys():\n",
    "                paid = self.act_id[pact]\n",
    "                self.a2a[aid][paid] += actions[pact]\n",
    "    def train(self, cfreq_path = './cfreq.npy',\n",
    "              afreq_path = './afreq.npy',\n",
    "              c2c_path = './c2c.npy',\n",
    "             c2a_path = './c2a.npy',\n",
    "             a2a_path = './a2a.npy'):\n",
    "        \"\"\"根据dataset进行训练. 这个函数将从头学习.\n",
    "        \"\"\"\n",
    "        self.cfreq = np.zeros(self.charnum)\n",
    "        self.afreq = np.zeros(self.actnum)\n",
    "        self.c2c = np.zeros((self.charnum, self.charnum))\n",
    "        self.c2a = np.zeros((self.charnum, self.actnum))\n",
    "        self.a2a = np.zeros((self.actnum, self.actnum))\n",
    "        for data in self.dataset:\n",
    "            self._update(scan(data))\n",
    "        wc = np.divide(np.ones(self.charnum), self.cfreq, out = np.zeros_like(self.cfreq), where=self.cfreq != 0)\n",
    "        wa = np.divide(np.ones_like(self.afreq), self.afreq, out = np.zeros_like(self.afreq), where=self.afreq != 0)\n",
    "        self.CharComfort = self.c2c* wc[:,None]##每一行都除\n",
    "        self.ActComfort = self.a2a * wa[:,None]\n",
    "        self.CharPreferAct = self.c2a * wc[:, None]\n",
    "        np.save(cfreq_path, self.cfreq)\n",
    "        np.save(afreq_path, self.afreq)\n",
    "        np.save(c2c_path, self.c2c)\n",
    "        np.save(c2a_path, self.c2a)\n",
    "        np.save(a2a_path, self.a2a)\n",
    "        print(\"train finished\")\n",
    "    def learn(self, total_path = './total.npy',\n",
    "              c2c_path = './c2c.npy',\n",
    "             c2a_path = './c2a.npy',\n",
    "             a2a_path = './a2a.npy'):\n",
    "        \"\"\"根据dataset进行训练. 这个函数不会从头学习, 因此必须保证dataset从未训练过!\n",
    "        \"\"\"\n",
    "        pass\n",
    "    def load(self, cfreq_path = './cfreq.npy',\n",
    "              afreq_path = './afreq.npy',\n",
    "              c2c_path = './c2c.npy',\n",
    "             c2a_path = './c2a.npy',\n",
    "             a2a_path = './a2a.npy'):\n",
    "        self.cfreq = np.load(cfreq_path)\n",
    "        self.afreq = np.load(afreq_path)\n",
    "        self.c2c = np.load(c2c_path)\n",
    "        self.c2a = np.load(c2a_path)\n",
    "        self.a2a = np.load(a2a_path)\n",
    "        wc = np.divide(np.ones(self.charnum), self.cfreq, out = np.zeros_like(self.cfreq), where=self.cfreq != 0)\n",
    "        wa = np.divide(np.ones_like(self.afreq), self.afreq, out = np.zeros_like(self.afreq), where=self.afreq != 0)\n",
    "        self.CharComfort = self.c2c* wc[:,None]##每一行都除\n",
    "        self.ActComfort = self.a2a * wa[:,None]\n",
    "        self.CharPreferAct = self.c2a * wc[:, None]\n",
    "    def predict(self, character_name):\n",
    "        if self.CharComfort is None:\n",
    "            print(\"please load data first\")\n",
    "            return None\n",
    "        cid = self.char_id[character_name]\n",
    "        res = {}\n",
    "        pal1, pal2 = BestChars(self.CharComfort, cid)\n",
    "        #print(self.id_char)\n",
    "        res['chars'] = (self.id_char[cid], self.id_char[pal1], self.id_char[pal2])\n",
    "        cards = MatchCardGA(self.ActComfort, (cid,pal1,pal2),self.CharPreferAct)\n",
    "        selected_indices = np.nonzero(cards)[0]\n",
    "        deck = {}\n",
    "        print(selected_indices)\n",
    "        for i in range(len(selected_indices)):\n",
    "            idx = selected_indices[i]\n",
    "            deck[self.id_act[idx]] = cards[idx]\n",
    "        res['deck'] = deck\n",
    "        print(\"推荐卡组:\")\n",
    "        print(res)\n",
    "        return res"
   ]
  },
  {
   "cell_type": "code",
   "execution_count": 4,
   "id": "4e3e09e9-4ab4-4986-b50b-1dbc808c1b75",
   "metadata": {
    "tags": []
   },
   "outputs": [],
   "source": [
    "if False:\n",
    "    char_id_mapping()\n",
    "    action_id_mapping()"
   ]
  },
  {
   "cell_type": "code",
   "execution_count": 5,
   "id": "d08857a3-aabe-4231-9c72-a1d36697bded",
   "metadata": {
    "tags": []
   },
   "outputs": [],
   "source": [
    "from pathlib import Path\n",
    "abs_path = str(Path(\"__file__\").parent.absolute())\n",
    "T = Trainer('action_id.json','char_id.json',\n",
    "            'id_action.json','id_char.json',abs_path + '\\\\'+ 'scanner\\\\python\\\\datasets')"
   ]
  },
  {
   "cell_type": "code",
   "execution_count": 6,
   "id": "4c96bbeb-2a2a-4123-bb60-9bd7771955ed",
   "metadata": {
    "tags": []
   },
   "outputs": [
    {
     "name": "stdout",
     "output_type": "stream",
     "text": [
      "<class '__main__.CardMatchPop'>\n",
      "<class '__main__.CardMatchPop'>\n",
      "<class '__main__.CardMatchPop'>\n",
      "init pop cost 0.012998819351196289s\n"
     ]
    },
    {
     "data": {
      "image/png": "[encoded data removed]",
      "text/plain": [
       "<Figure size 432x288 with 1 Axes>"
      ]
     },
     "metadata": {
      "needs_background": "light"
     },
     "output_type": "display_data"
    },
    {
     "name": "stdout",
     "output_type": "stream",
     "text": [
      "Execution time: 6.2582480907440186 s\n",
      "Evaluation number: 26000\n",
      "The best objective value is: 553.1087662337662\n",
      "The best variables are: \n",
      "0\t1\t0\t0\t0\t0\t0\t0\t0\t0\t1\t1\t1\t0\t0\t0\t0\t0\t0\t0\t0\t0\t0\t0\t1\t0\t0\t0\t0\t0\t0\t0\t0\t0\t0\t0\t0\t0\t0\t2\t0\t0\t0\t0\t2\t1\t0\t1\t0\t0\t0\t0\t0\t0\t0\t0\t0\t0\t0\t1\t0\t0\t0\t2\t0\t0\t0\t1\t1\t1\t0\t0\t0\t0\t0\t1\t0\t2\t0\t0\t1\t0\t0\t0\t0\t0\t1\t0\t0\t0\t0\t1\t0\t0\t0\t0\t0\t0\t2\t0\t0\t0\t0\t0\t0\t0\t0\t0\t0\t0\t1\t0\t0\t1\t0\t0\t0\t0\t0\t0\t1\t0\t0\t0\t0\t0\t0\t0\t0\t1\t0\t0\t0\t0\t0\t1\t\n",
      "[  1  10  11  12  24  39  44  45  47  59  63  67  68  69  75  77  80  86\n",
      "  91  98 110 113 120 129 135]\n",
      "推荐卡组:\n",
      "{'chars': ('fischl', 'collei', 'mona'), 'deck': {'adeptus_temptation': 1, 'calxs_arts': 1, 'changing_shifts': 1, 'chang_the_ninth': 1, 'elemental_resonance_fervent_flames': 1, 'favonius_cathedral': 2, 'gamblers_earrings': 2, 'general_helm': 1, 'grand_expectation': 1, 'knights_of_favonius_library': 1, 'leave_it_to_me!': 2, 'liu_su': 1, 'liyue_harbor_wharf': 1, 'lotus_flower_crisp': 1, 'minty_meat_rolls': 1, 'mondstadt_hash_brown': 2, 'northern_smoked_chicken': 1, 'parametric_transformer': 1, 'raven_bow': 1, 'send_off': 2, 'strategize': 1, 'the_bestest_travel_companion!': 1, 'toss-up': 1, 'wangshu_inn': 1, 'wolfs_gravestone': 1}}\n"
     ]
    },
    {
     "data": {
      "text/plain": [
       "{'chars': ('fischl', 'collei', 'mona'),\n",
       " 'deck': {'adeptus_temptation': 1,\n",
       "  'calxs_arts': 1,\n",
       "  'changing_shifts': 1,\n",
       "  'chang_the_ninth': 1,\n",
       "  'elemental_resonance_fervent_flames': 1,\n",
       "  'favonius_cathedral': 2,\n",
       "  'gamblers_earrings': 2,\n",
       "  'general_helm': 1,\n",
       "  'grand_expectation': 1,\n",
       "  'knights_of_favonius_library': 1,\n",
       "  'leave_it_to_me!': 2,\n",
       "  'liu_su': 1,\n",
       "  'liyue_harbor_wharf': 1,\n",
       "  'lotus_flower_crisp': 1,\n",
       "  'minty_meat_rolls': 1,\n",
       "  'mondstadt_hash_brown': 2,\n",
       "  'northern_smoked_chicken': 1,\n",
       "  'parametric_transformer': 1,\n",
       "  'raven_bow': 1,\n",
       "  'send_off': 2,\n",
       "  'strategize': 1,\n",
       "  'the_bestest_travel_companion!': 1,\n",
       "  'toss-up': 1,\n",
       "  'wangshu_inn': 1,\n",
       "  'wolfs_gravestone': 1}}"
      ]
     },
     "execution_count": 6,
     "metadata": {},
     "output_type": "execute_result"
    }
   ],
   "source": [
    "T.load()\n",
    "T.predict(\"fischl\")"
   ]
  },
  {
   "cell_type": "code",
   "execution_count": 7,
   "id": "2eebfff8-a2ca-4639-baae-2b0868c129ea",
   "metadata": {
    "tags": []
   },
   "outputs": [
    {
     "name": "stdout",
     "output_type": "stream",
     "text": [
      "<class '__main__.CardMatchPop'>\n",
      "<class '__main__.CardMatchPop'>\n",
      "<class '__main__.CardMatchPop'>\n",
      "init pop cost 0.007999897003173828s\n"
     ]
    },
    {
     "data": {
      "image/png": "[encoded data removed]",
      "text/plain": [
       "<Figure size 432x288 with 1 Axes>"
      ]
     },
     "metadata": {
      "needs_background": "light"
     },
     "output_type": "display_data"
    },
    {
     "name": "stdout",
     "output_type": "stream",
     "text": [
      "Execution time: 6.044647932052612 s\n",
      "Evaluation number: 26000\n",
      "The best objective value is: 529.3071428571428\n",
      "The best variables are: \n",
      "0\t1\t0\t0\t0\t0\t0\t0\t0\t0\t0\t0\t1\t0\t1\t0\t0\t0\t0\t0\t1\t0\t0\t0\t1\t0\t0\t0\t2\t0\t1\t0\t0\t0\t1\t0\t0\t0\t0\t2\t0\t0\t0\t0\t0\t1\t0\t0\t0\t0\t0\t0\t1\t0\t0\t0\t0\t0\t0\t1\t0\t0\t0\t0\t2\t0\t0\t0\t1\t1\t0\t0\t0\t1\t0\t0\t0\t1\t2\t0\t0\t0\t0\t0\t0\t2\t0\t0\t0\t0\t0\t0\t0\t0\t1\t0\t0\t0\t0\t0\t0\t0\t0\t0\t0\t0\t0\t0\t0\t0\t0\t0\t0\t1\t0\t0\t0\t0\t0\t0\t1\t0\t0\t1\t0\t0\t0\t0\t0\t1\t1\t0\t0\t0\t0\t0\t\n",
      "[  1  12  14  20  24  28  30  34  39  45  52  59  64  68  69  73  77  78\n",
      "  85  94 113 120 123 129 130]\n",
      "推荐卡组:\n",
      "{'chars': ('kokomi', 'diona', 'mona'), 'deck': {'adeptus_temptation': 1, 'chang_the_ninth': 1, 'chef_mao': 1, 'dawn_winery': 1, 'elemental_resonance_fervent_flames': 1, 'elemental_resonance_soothing_water': 2, 'elemental_resonance_woven_flames': 1, 'elemental_resonance_woven_waters': 1, 'favonius_cathedral': 2, 'general_helm': 1, 'iron_tongue_tian': 1, 'knights_of_favonius_library': 1, 'liben': 2, 'liyue_harbor_wharf': 1, 'lotus_flower_crisp': 1, 'master_of_weaponry': 1, 'mondstadt_hash_brown': 1, 'mushroom_pizza': 2, 'paimon': 2, 'sacrificial_bow': 1, 'the_bestest_travel_companion!': 1, 'toss-up': 1, 'traveling_doctors_handkerchief': 1, 'wangshu_inn': 1, 'when_the_crane_returned': 1}}\n"
     ]
    },
    {
     "data": {
      "text/plain": [
       "{'chars': ('kokomi', 'diona', 'mona'),\n",
       " 'deck': {'adeptus_temptation': 1,\n",
       "  'chang_the_ninth': 1,\n",
       "  'chef_mao': 1,\n",
       "  'dawn_winery': 1,\n",
       "  'elemental_resonance_fervent_flames': 1,\n",
       "  'elemental_resonance_soothing_water': 2,\n",
       "  'elemental_resonance_woven_flames': 1,\n",
       "  'elemental_resonance_woven_waters': 1,\n",
       "  'favonius_cathedral': 2,\n",
       "  'general_helm': 1,\n",
       "  'iron_tongue_tian': 1,\n",
       "  'knights_of_favonius_library': 1,\n",
       "  'liben': 2,\n",
       "  'liyue_harbor_wharf': 1,\n",
       "  'lotus_flower_crisp': 1,\n",
       "  'master_of_weaponry': 1,\n",
       "  'mondstadt_hash_brown': 1,\n",
       "  'mushroom_pizza': 2,\n",
       "  'paimon': 2,\n",
       "  'sacrificial_bow': 1,\n",
       "  'the_bestest_travel_companion!': 1,\n",
       "  'toss-up': 1,\n",
       "  'traveling_doctors_handkerchief': 1,\n",
       "  'wangshu_inn': 1,\n",
       "  'when_the_crane_returned': 1}}"
      ]
     },
     "execution_count": 7,
     "metadata": {},
     "output_type": "execute_result"
    }
   ],
   "source": [
    "T.predict(\"kokomi\")"
   ]
  },
  {
   "cell_type": "code",
   "execution_count": 8,
   "id": "f841fc82-f631-4a6e-b56b-b0d58eae4369",
   "metadata": {
    "tags": []
   },
   "outputs": [
    {
     "name": "stdout",
     "output_type": "stream",
     "text": [
      "<class '__main__.CardMatchPop'>\n",
      "<class '__main__.CardMatchPop'>\n",
      "<class '__main__.CardMatchPop'>\n",
      "init pop cost 0.005003690719604492s\n"
     ]
    },
    {
     "data": {
      "image/png": "[encoded data removed]",
      "text/plain": [
       "<Figure size 432x288 with 1 Axes>"
      ]
     },
     "metadata": {
      "needs_background": "light"
     },
     "output_type": "display_data"
    },
    {
     "name": "stdout",
     "output_type": "stream",
     "text": [
      "Execution time: 2.3598990440368652 s\n",
      "Evaluation number: 19500\n",
      "The best objective value is: 309.8995670995671\n",
      "The best variables are: \n",
      "1\t1\t0\t0\t0\t0\t0\t0\t0\t0\t1\t0\t1\t0\t1\t0\t0\t0\t0\t0\t0\t0\t0\t0\t0\t1\t0\t0\t0\t0\t0\t1\t1\t0\t1\t0\t0\t0\t0\t0\t1\t0\t0\t1\t1\t1\t0\t0\t0\t0\t0\t0\t1\t0\t1\t0\t0\t0\t0\t0\t1\t0\t0\t1\t0\t0\t0\t0\t0\t0\t0\t0\t0\t0\t0\t0\t0\t1\t2\t0\t0\t0\t0\t0\t0\t1\t0\t0\t0\t0\t0\t1\t0\t0\t1\t0\t0\t0\t1\t0\t0\t0\t0\t0\t0\t1\t0\t0\t0\t0\t0\t1\t1\t1\t0\t0\t0\t0\t0\t1\t0\t0\t0\t0\t0\t0\t0\t0\t0\t0\t0\t0\t0\t0\t0\t1\t\n",
      "[  0   1  10  12  14  25  31  32  34  40  43  44  45  52  54  60  63  77\n",
      "  78  85  91  94  98 105 111 112 113 119 135]\n",
      "推荐卡组:\n",
      "{'chars': ('mona', 'collei', 'fischl'), 'deck': {'abyssal_summons': 1, 'adeptus_temptation': 1, 'calxs_arts': 1, 'chang_the_ninth': 1, 'chef_mao': 1, 'elemental_resonance_high_voltage': 1, 'elemental_resonance_woven_ice': 1, 'elemental_resonance_woven_stone': 1, 'elemental_resonance_woven_waters': 1, 'featherfall_judgment': 1, 'frostflake_seki_no_to': 1, 'gamblers_earrings': 1, 'general_helm': 1, 'iron_tongue_tian': 1, 'i_havent_lost_yet!': 1, 'lands_of_dandelion': 1, 'leave_it_to_me!': 1, 'mondstadt_hash_brown': 1, 'mushroom_pizza': 2, 'paimon': 1, 'raven_bow': 1, 'sacrificial_bow': 1, 'send_off': 1, 'starsigns': 1, 'streaming_surge': 1, 'sweet_madame': 1, 'the_bestest_travel_companion!': 1, 'timmie': 1, 'wolfs_gravestone': 1}}\n"
     ]
    },
    {
     "data": {
      "text/plain": [
       "{'chars': ('mona', 'collei', 'fischl'),\n",
       " 'deck': {'abyssal_summons': 1,\n",
       "  'adeptus_temptation': 1,\n",
       "  'calxs_arts': 1,\n",
       "  'chang_the_ninth': 1,\n",
       "  'chef_mao': 1,\n",
       "  'elemental_resonance_high_voltage': 1,\n",
       "  'elemental_resonance_woven_ice': 1,\n",
       "  'elemental_resonance_woven_stone': 1,\n",
       "  'elemental_resonance_woven_waters': 1,\n",
       "  'featherfall_judgment': 1,\n",
       "  'frostflake_seki_no_to': 1,\n",
       "  'gamblers_earrings': 1,\n",
       "  'general_helm': 1,\n",
       "  'iron_tongue_tian': 1,\n",
       "  'i_havent_lost_yet!': 1,\n",
       "  'lands_of_dandelion': 1,\n",
       "  'leave_it_to_me!': 1,\n",
       "  'mondstadt_hash_brown': 1,\n",
       "  'mushroom_pizza': 2,\n",
       "  'paimon': 1,\n",
       "  'raven_bow': 1,\n",
       "  'sacrificial_bow': 1,\n",
       "  'send_off': 1,\n",
       "  'starsigns': 1,\n",
       "  'streaming_surge': 1,\n",
       "  'sweet_madame': 1,\n",
       "  'the_bestest_travel_companion!': 1,\n",
       "  'timmie': 1,\n",
       "  'wolfs_gravestone': 1}}"
      ]
     },
     "execution_count": 8,
     "metadata": {},
     "output_type": "execute_result"
    }
   ],
   "source": [
    "T.predict(\"mona\")"
   ]
  },
  {
   "cell_type": "code",
   "execution_count": null,
   "id": "1ed50f19-96a9-4155-8b5c-f6f1d160fe5a",
   "metadata": {},
   "outputs": [],
   "source": []
  }
 ],
 "metadata": {
  "kernelspec": {
   "display_name": "Python 3 (ipykernel)",
   "language": "python",
   "name": "python3"
  },
  "language_info": {
   "codemirror_mode": {
    "name": "ipython",
    "version": 3
   },
   "file_extension": ".py",
   "mimetype": "text/x-python",
   "name": "python",
   "nbconvert_exporter": "python",
   "pygments_lexer": "ipython3",
   "version": "3.8.8"
  }
 },
 "nbformat": 4,
 "nbformat_minor": 5
}
