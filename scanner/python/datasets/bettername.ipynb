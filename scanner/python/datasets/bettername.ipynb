{
 "cells": [
  {
   "cell_type": "code",
   "execution_count": 1,
   "id": "5a770eb9-a758-42c5-9c4f-ed5a15aba3c0",
   "metadata": {
    "tags": []
   },
   "outputs": [],
   "source": [
    "import os\n",
    "\n",
    "def bettername():\n",
    "    files = os.listdir('.')\n",
    "    for file_name in files:\n",
    "        if os.path.isfile(f'./{file_name}'):\n",
    "            if file_name.startswith('-'):\n",
    "                os.rename(f'./{file_name}','./{}'.format(file_name.strip('-')))"
   ]
  },
  {
   "cell_type": "code",
   "execution_count": 2,
   "id": "7a33583e-b40f-4954-a8b8-9fb16d1e9838",
   "metadata": {
    "tags": []
   },
   "outputs": [],
   "source": [
    "bettername()"
   ]
  },
  {
   "cell_type": "code",
   "execution_count": null,
   "id": "e7640532-b6e5-44e0-9e3b-212ed89a8ab8",
   "metadata": {},
   "outputs": [],
   "source": []
  }
 ],
 "metadata": {
  "kernelspec": {
   "display_name": "Python 3 (ipykernel)",
   "language": "python",
   "name": "python3"
  },
  "language_info": {
   "codemirror_mode": {
    "name": "ipython",
    "version": 3
   },
   "file_extension": ".py",
   "mimetype": "text/x-python",
   "name": "python",
   "nbconvert_exporter": "python",
   "pygments_lexer": "ipython3",
   "version": "3.8.8"
  }
 },
 "nbformat": 4,
 "nbformat_minor": 5
}
